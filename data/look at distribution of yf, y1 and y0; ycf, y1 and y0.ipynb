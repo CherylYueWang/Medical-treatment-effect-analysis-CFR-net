{
 "cells": [
  {
   "cell_type": "code",
   "execution_count": 83,
   "metadata": {},
   "outputs": [],
   "source": [
    "import numpy as np\n",
    "import matplotlib.pyplot as plot"
   ]
  },
  {
   "cell_type": "code",
   "execution_count": 3,
   "metadata": {},
   "outputs": [],
   "source": [
    "train = np.load('./ihdp_npci_1-100.train.npz')"
   ]
  },
  {
   "cell_type": "code",
   "execution_count": 4,
   "metadata": {},
   "outputs": [
    {
     "data": {
      "text/plain": [
       "<numpy.lib.npyio.NpzFile at 0x109696dd8>"
      ]
     },
     "execution_count": 4,
     "metadata": {},
     "output_type": "execute_result"
    }
   ],
   "source": [
    "train"
   ]
  },
  {
   "cell_type": "code",
   "execution_count": 58,
   "metadata": {},
   "outputs": [
    {
     "data": {
      "text/plain": [
       "array([[ 1.93856829,  2.17760198,  7.6464123 , ..., 18.78326216,\n",
       "         9.85173557,  8.55349945],\n",
       "       [ 3.89968653,  4.79119568,  1.88350246, ...,  6.81465261,\n",
       "         6.47127401, 13.87227322],\n",
       "       [ 2.40589425,  3.93225628,  3.72621383, ...,  9.44680317,\n",
       "        20.39254453, 12.48953501],\n",
       "       ...,\n",
       "       [ 0.60122589,  5.0162557 ,  4.10173028, ...,  7.64878636,\n",
       "         5.83093279,  6.92523077],\n",
       "       [ 3.93920095,  4.02880128,  1.63700713, ...,  9.74992581,\n",
       "         6.06744478, 13.8177076 ],\n",
       "       [ 2.60919184,  6.00696676,  1.39795733, ..., 36.60339702,\n",
       "        13.75320639,  9.19750835]])"
      ]
     },
     "execution_count": 58,
     "metadata": {},
     "output_type": "execute_result"
    }
   ],
   "source": [
    "train['yf']"
   ]
  },
  {
   "cell_type": "code",
   "execution_count": 6,
   "metadata": {},
   "outputs": [
    {
     "data": {
      "text/plain": [
       "100"
      ]
     },
     "execution_count": 6,
     "metadata": {},
     "output_type": "execute_result"
    }
   ],
   "source": [
    "len(train['yf'][0])"
   ]
  },
  {
   "cell_type": "code",
   "execution_count": 9,
   "metadata": {},
   "outputs": [
    {
     "data": {
      "text/plain": [
       "array([[ True,  True, False, ...,  True,  True,  True],\n",
       "       [ True,  True,  True, ...,  True,  True,  True],\n",
       "       [ True,  True,  True, ...,  True,  True, False],\n",
       "       ...,\n",
       "       [ True,  True,  True, ...,  True,  True,  True],\n",
       "       [False,  True,  True, ...,  True,  True, False],\n",
       "       [ True,  True,  True, ...,  True, False,  True]])"
      ]
     },
     "execution_count": 9,
     "metadata": {},
     "output_type": "execute_result"
    }
   ],
   "source": [
    "train['t']==0"
   ]
  },
  {
   "cell_type": "code",
   "execution_count": 10,
   "metadata": {},
   "outputs": [
    {
     "data": {
      "text/plain": [
       "(672, 100)"
      ]
     },
     "execution_count": 10,
     "metadata": {},
     "output_type": "execute_result"
    }
   ],
   "source": [
    "train['t'].shape"
   ]
  },
  {
   "cell_type": "code",
   "execution_count": 81,
   "metadata": {},
   "outputs": [
    {
     "data": {
      "text/plain": [
       "array([0., 0., 1., 0., 1., 0., 0., 0., 0., 0., 1., 0., 0., 1., 0., 0., 0.,\n",
       "       0., 0., 0., 1., 0., 0., 0., 1., 0., 0., 0., 0., 0., 0., 1., 1., 0.,\n",
       "       0., 0., 0., 0., 0., 0., 0., 1., 0., 0., 0., 0., 1., 0., 0., 0., 1.,\n",
       "       0., 0., 0., 1., 0., 0., 0., 0., 1., 0., 0., 1., 1., 0., 0., 0., 0.,\n",
       "       0., 0., 0., 0., 1., 0., 0., 0., 0., 0., 0., 0., 0., 0., 1., 0., 0.,\n",
       "       0., 0., 0., 0., 1., 0., 0., 0., 0., 0., 1., 0., 0., 0., 0.])"
      ]
     },
     "execution_count": 81,
     "metadata": {},
     "output_type": "execute_result"
    }
   ],
   "source": [
    "train[\"t\"][0]"
   ]
  },
  {
   "cell_type": "code",
   "execution_count": 31,
   "metadata": {},
   "outputs": [
    {
     "data": {
      "text/plain": [
       "array([[ 5.85663227,  8.36324396,  7.83226708, ..., 27.10484002,\n",
       "        14.12632834, 13.28138412],\n",
       "       [ 6.6232255 ,  8.32414254,  6.23321083, ..., 26.00892602,\n",
       "        14.00359421, 13.88138412],\n",
       "       [ 5.89038603,  8.18072925,  7.65255021, ..., 26.5683658 ,\n",
       "        14.87316392, 13.18138412],\n",
       "       ...,\n",
       "       [ 6.15950183,  8.38250611,  7.51245583, ..., 26.30633584,\n",
       "        13.47191472, 13.28138412],\n",
       "       [ 6.02161722,  8.05375981,  7.39264458, ..., 26.3935483 ,\n",
       "        13.64436608, 13.28138412],\n",
       "       [ 6.51909465,  8.64340469,  6.7129277 , ..., 27.76386043,\n",
       "        14.46778387, 13.28138412]])"
      ]
     },
     "execution_count": 31,
     "metadata": {},
     "output_type": "execute_result"
    }
   ],
   "source": [
    "train['mu1']"
   ]
  },
  {
   "cell_type": "code",
   "execution_count": 26,
   "metadata": {},
   "outputs": [
    {
     "data": {
      "text/plain": [
       "array([[ 1.20494293,  4.42139489,  4.51969325, ..., 18.71446207,\n",
       "         9.03048053,  7.76790111],\n",
       "       [ 2.59354441,  4.25184841,  0.91337191, ...,  6.25500912,\n",
       "         7.98744915, 14.15403865],\n",
       "       [ 1.24630848,  3.68378412,  3.77623412, ..., 10.94433947,\n",
       "        19.05712708,  7.02868758],\n",
       "       ...,\n",
       "       [ 1.63117689,  4.50738598,  3.28259043, ...,  8.42153756,\n",
       "         4.69356284,  7.76790111],\n",
       "       [ 1.42108002,  3.24453186,  2.91194611, ...,  9.18897946,\n",
       "         5.5769572 ,  7.76790111],\n",
       "       [ 2.337062  ,  5.85101972,  1.47565911, ..., 36.17314557,\n",
       "        12.70583213,  7.76790111]])"
      ]
     },
     "execution_count": 26,
     "metadata": {},
     "output_type": "execute_result"
    }
   ],
   "source": [
    "train['mu0']"
   ]
  },
  {
   "cell_type": "code",
   "execution_count": 29,
   "metadata": {},
   "outputs": [
    {
     "data": {
      "text/plain": [
       "array([[ 6.22171953,  8.76826561,  4.26135436, ..., 27.56149669,\n",
       "        14.84108211, 13.02234538],\n",
       "       [ 5.74114413,  8.5377825 ,  6.75063464, ..., 25.2002213 ,\n",
       "        14.73091551, 13.90379468],\n",
       "       [ 6.70928067,  9.29998036,  6.73862143, ..., 26.27391048,\n",
       "        16.0608053 ,  7.30400661],\n",
       "       ...,\n",
       "       [ 5.65502712, 10.28747503,  8.33971287, ..., 26.3492457 ,\n",
       "        14.08121111, 14.07356298],\n",
       "       [ 3.01632066,  8.97506074,  8.63058329, ..., 26.66718148,\n",
       "        12.32098576,  7.63790343],\n",
       "       [ 7.15216666,  6.44281873,  6.69166356, ..., 28.505522  ,\n",
       "        13.11180324, 12.01629782]])"
      ]
     },
     "execution_count": 29,
     "metadata": {},
     "output_type": "execute_result"
    }
   ],
   "source": [
    "train['ycf']"
   ]
  },
  {
   "cell_type": "code",
   "execution_count": 28,
   "metadata": {},
   "outputs": [
    {
     "data": {
      "text/plain": [
       "array(1)"
      ]
     },
     "execution_count": 28,
     "metadata": {},
     "output_type": "execute_result"
    }
   ],
   "source": [
    "train['ymul']"
   ]
  },
  {
   "cell_type": "code",
   "execution_count": 41,
   "metadata": {},
   "outputs": [],
   "source": [
    "idx = np.argwhere(train[\"t\"])"
   ]
  },
  {
   "cell_type": "code",
   "execution_count": 42,
   "metadata": {},
   "outputs": [
    {
     "data": {
      "text/plain": [
       "(12480, 2)"
      ]
     },
     "execution_count": 42,
     "metadata": {},
     "output_type": "execute_result"
    }
   ],
   "source": [
    "idx.shape"
   ]
  },
  {
   "cell_type": "code",
   "execution_count": 48,
   "metadata": {},
   "outputs": [],
   "source": [
    "tidx = np.ndarray.tolist(idx) # t = 1"
   ]
  },
  {
   "cell_type": "code",
   "execution_count": 64,
   "metadata": {},
   "outputs": [
    {
     "data": {
      "text/plain": [
       "[0, 2]"
      ]
     },
     "execution_count": 64,
     "metadata": {},
     "output_type": "execute_result"
    }
   ],
   "source": [
    "tidx[0]"
   ]
  },
  {
   "cell_type": "code",
   "execution_count": 62,
   "metadata": {},
   "outputs": [
    {
     "data": {
      "text/plain": [
       "7.64641230068041"
      ]
     },
     "execution_count": 62,
     "metadata": {},
     "output_type": "execute_result"
    }
   ],
   "source": [
    "train['yf'][0,2]"
   ]
  },
  {
   "cell_type": "code",
   "execution_count": 60,
   "metadata": {},
   "outputs": [
    {
     "data": {
      "text/plain": [
       "7.64641230068041"
      ]
     },
     "execution_count": 60,
     "metadata": {},
     "output_type": "execute_result"
    }
   ],
   "source": [
    "train['yf'][tidx[0][0],tidx[0][1]]"
   ]
  },
  {
   "cell_type": "code",
   "execution_count": 76,
   "metadata": {},
   "outputs": [],
   "source": [
    "y1 = []\n",
    "for i in range(len(tidx)):\n",
    "    y1.append(train['yf'][tidx[i][0],tidx[i][1]])\n"
   ]
  },
  {
   "cell_type": "code",
   "execution_count": 102,
   "metadata": {
    "scrolled": true
   },
   "outputs": [
    {
     "data": {
      "text/plain": [
       "12480"
      ]
     },
     "execution_count": 102,
     "metadata": {},
     "output_type": "execute_result"
    }
   ],
   "source": [
    "len(y1)"
   ]
  },
  {
   "cell_type": "code",
   "execution_count": 82,
   "metadata": {},
   "outputs": [
    {
     "data": {
      "text/plain": [
       "9.84881046212711"
      ]
     },
     "execution_count": 82,
     "metadata": {},
     "output_type": "execute_result"
    }
   ],
   "source": [
    "train['yf'][0][4]"
   ]
  },
  {
   "cell_type": "code",
   "execution_count": 101,
   "metadata": {},
   "outputs": [
    {
     "data": {
      "image/png": "[encoded data removed]",
      "text/plain": [
       "<Figure size 432x288 with 1 Axes>"
      ]
     },
     "metadata": {
      "needs_background": "light"
     },
     "output_type": "display_data"
    }
   ],
   "source": [
    "plot.hist(y1,50)\n",
    "plot.show()"
   ]
  },
  {
   "cell_type": "code",
   "execution_count": 86,
   "metadata": {},
   "outputs": [],
   "source": [
    "idx = np.argwhere(train[\"t\"]==0)"
   ]
  },
  {
   "cell_type": "code",
   "execution_count": 87,
   "metadata": {},
   "outputs": [
    {
     "data": {
      "text/plain": [
       "array([[  0,   0],\n",
       "       [  0,   1],\n",
       "       [  0,   3],\n",
       "       ...,\n",
       "       [671,  96],\n",
       "       [671,  97],\n",
       "       [671,  99]])"
      ]
     },
     "execution_count": 87,
     "metadata": {},
     "output_type": "execute_result"
    }
   ],
   "source": [
    "idx"
   ]
  },
  {
   "cell_type": "code",
   "execution_count": 88,
   "metadata": {},
   "outputs": [],
   "source": [
    "tidx0 = np.ndarray.tolist(idx) # t= 0 "
   ]
  },
  {
   "cell_type": "raw",
   "metadata": {},
   "source": []
  },
  {
   "cell_type": "raw",
   "metadata": {},
   "source": []
  },
  {
   "cell_type": "raw",
   "metadata": {},
   "source": []
  },
  {
   "cell_type": "code",
   "execution_count": 96,
   "metadata": {},
   "outputs": [
    {
     "data": {
      "text/plain": [
       "54720"
      ]
     },
     "execution_count": 96,
     "metadata": {},
     "output_type": "execute_result"
    }
   ],
   "source": [
    "len(tidx0)"
   ]
  },
  {
   "cell_type": "code",
   "execution_count": 92,
   "metadata": {},
   "outputs": [
    {
     "data": {
      "text/plain": [
       "2.17760198413096"
      ]
     },
     "execution_count": 92,
     "metadata": {},
     "output_type": "execute_result"
    }
   ],
   "source": [
    "train['yf'][tidx0[1][0],tidx0[1][1]]"
   ]
  },
  {
   "cell_type": "code",
   "execution_count": 93,
   "metadata": {},
   "outputs": [],
   "source": [
    "y0 = []\n",
    "for i in range(len(tidx0)):\n",
    "    y0.append(train['yf'][tidx0[i][0],tidx0[i][1]])"
   ]
  },
  {
   "cell_type": "code",
   "execution_count": 103,
   "metadata": {},
   "outputs": [
    {
     "data": {
      "text/plain": [
       "54720"
      ]
     },
     "execution_count": 103,
     "metadata": {},
     "output_type": "execute_result"
    }
   ],
   "source": [
    "len(y0)"
   ]
  },
  {
   "cell_type": "code",
   "execution_count": 97,
   "metadata": {},
   "outputs": [
    {
     "data": {
      "text/plain": [
       "7.69908243386486"
      ]
     },
     "execution_count": 97,
     "metadata": {},
     "output_type": "execute_result"
    }
   ],
   "source": [
    "train['yf'][0,3]"
   ]
  },
  {
   "cell_type": "code",
   "execution_count": 100,
   "metadata": {},
   "outputs": [
    {
     "data": {
      "image/png": "[encoded data removed]",
      "text/plain": [
       "<Figure size 432x288 with 1 Axes>"
      ]
     },
     "metadata": {
      "needs_background": "light"
     },
     "output_type": "display_data"
    }
   ],
   "source": [
    "plot.hist(y0,50)\n",
    "plot.show()"
   ]
  },
  {
   "cell_type": "code",
   "execution_count": 105,
   "metadata": {},
   "outputs": [
    {
     "data": {
      "text/plain": [
       "(672, 100)"
      ]
     },
     "execution_count": 105,
     "metadata": {},
     "output_type": "execute_result"
    }
   ],
   "source": [
    "train['ycf'].shape"
   ]
  },
  {
   "cell_type": "code",
   "execution_count": 117,
   "metadata": {},
   "outputs": [],
   "source": [
    "y1cf = []\n",
    "for i in range(len(tidx0)):\n",
    "    y1cf.append(train['ycf'][tidx0[i][0],tidx0[i][1]])"
   ]
  },
  {
   "cell_type": "code",
   "execution_count": 118,
   "metadata": {},
   "outputs": [
    {
     "data": {
      "text/plain": [
       "6.53135503947363"
      ]
     },
     "execution_count": 118,
     "metadata": {},
     "output_type": "execute_result"
    }
   ],
   "source": [
    "train['ycf'][0,4]"
   ]
  },
  {
   "cell_type": "code",
   "execution_count": 119,
   "metadata": {},
   "outputs": [
    {
     "data": {
      "text/plain": [
       "67200"
      ]
     },
     "execution_count": 119,
     "metadata": {},
     "output_type": "execute_result"
    }
   ],
   "source": [
    "len(y1)+len(y1cf)"
   ]
  },
  {
   "cell_type": "code",
   "execution_count": 120,
   "metadata": {},
   "outputs": [
    {
     "data": {
      "text/plain": [
       "54720"
      ]
     },
     "execution_count": 120,
     "metadata": {},
     "output_type": "execute_result"
    }
   ],
   "source": [
    "len(y1cf)"
   ]
  },
  {
   "cell_type": "code",
   "execution_count": 114,
   "metadata": {},
   "outputs": [],
   "source": [
    "y0cf = []\n",
    "for i in range(len(tidx)):\n",
    "    y0cf.append(train['ycf'][tidx[i][0],tidx[i][1]])"
   ]
  },
  {
   "cell_type": "code",
   "execution_count": 116,
   "metadata": {},
   "outputs": [
    {
     "data": {
      "text/plain": [
       "67200"
      ]
     },
     "execution_count": 116,
     "metadata": {},
     "output_type": "execute_result"
    }
   ],
   "source": [
    "len(y0cf) + len(y0)"
   ]
  },
  {
   "cell_type": "code",
   "execution_count": 121,
   "metadata": {},
   "outputs": [
    {
     "data": {
      "image/png": "[encoded data removed]",
      "text/plain": [
       "<Figure size 432x288 with 1 Axes>"
      ]
     },
     "metadata": {
      "needs_background": "light"
     },
     "output_type": "display_data"
    }
   ],
   "source": [
    "plot.hist(y0cf,50)\n",
    "plot.show()"
   ]
  },
  {
   "cell_type": "code",
   "execution_count": 122,
   "metadata": {},
   "outputs": [
    {
     "data": {
      "image/png": "[encoded data removed]",
      "text/plain": [
       "<Figure size 432x288 with 1 Axes>"
      ]
     },
     "metadata": {
      "needs_background": "light"
     },
     "output_type": "display_data"
    }
   ],
   "source": [
    "plot.hist(y1cf,50)\n",
    "plot.show()"
   ]
  },
  {
   "cell_type": "code",
   "execution_count": 123,
   "metadata": {},
   "outputs": [
    {
     "data": {
      "text/plain": [
       "False"
      ]
     },
     "execution_count": 123,
     "metadata": {},
     "output_type": "execute_result"
    }
   ],
   "source": [
    "y1 == y1cf"
   ]
  },
  {
   "cell_type": "code",
   "execution_count": 126,
   "metadata": {},
   "outputs": [
    {
     "data": {
      "text/plain": [
       "[7.64641230068041,\n",
       " 9.84881046212711,\n",
       " 8.84010295665714,\n",
       " 5.51316628420948,\n",
       " 18.2373416560646,\n",
       " 10.3512338470063,\n",
       " 7.93303464709781,\n",
       " 9.66310357701,\n",
       " 8.36455309338319,\n",
       " 17.0747902632464,\n",
       " 10.6337521287721,\n",
       " 7.24337343077677,\n",
       " 29.9864413152803,\n",
       " 8.25224087174629,\n",
       " 9.81422366474457,\n",
       " 7.24241118949888,\n",
       " 17.8609810211916,\n",
       " 12.3226821846083,\n",
       " 11.0562069405286,\n",
       " 9.30902381103811,\n",
       " 71.425493301356,\n",
       " 14.3754648861979,\n",
       " 33.5190684626313,\n",
       " 28.1185248748804,\n",
       " 29.3876142278867,\n",
       " 5.62604340147236,\n",
       " 10.3454131441014,\n",
       " 14.2817220769143,\n",
       " 14.4376963404361,\n",
       " 7.64026116899716,\n",
       " 61.5102625916199,\n",
       " 20.7256014013817,\n",
       " 6.58668987225603,\n",
       " 11.2216779691025,\n",
       " 7.72422037371536,\n",
       " 17.0528284872717,\n",
       " 28.5293349581615,\n",
       " 4.60519577882201,\n",
       " 8.30339046028514,\n",
       " 10.9655324387906,\n",
       " 12.5447592062825,\n",
       " 8.65097961273089,\n",
       " 13.4511073092571,\n",
       " 12.2621645647762,\n",
       " 7.36296034793636,\n",
       " 29.6248399856331,\n",
       " 7.73321645849523,\n",
       " 10.0999321342731,\n",
       " 9.2396260893405,\n",
       " 7.54021942805625,\n",
       " 48.3289499873813,\n",
       " 18.1405152574679,\n",
       " 8.25997874344928,\n",
       " 3.78030912063425,\n",
       " 12.4895350053136,\n",
       " 7.74791602868003,\n",
       " 9.2628133443112,\n",
       " 8.62622539429267,\n",
       " 28.7330355437389,\n",
       " 15.6696270639409,\n",
       " 24.1533299219046,\n",
       " 31.4471502505084,\n",
       " 16.9020558828306,\n",
       " 11.6598581958809,\n",
       " 6.39958653423613,\n",
       " 4.24262866556176,\n",
       " 7.92136842013793,\n",
       " 17.8391630857909,\n",
       " 6.05497921565128,\n",
       " 8.92221130486468,\n",
       " 12.5358519702496,\n",
       " 9.06359156450867,\n",
       " 8.41887655439678,\n",
       " 7.3134057648882,\n",
       " 9.66841328863511,\n",
       " 12.9962162159089,\n",
       " 8.70262499109975,\n",
       " 58.3601817248407,\n",
       " 8.28154021337652,\n",
       " 5.07917307432261,\n",
       " 9.24774509627206,\n",
       " 14.3998878539611,\n",
       " 17.9476188840708,\n",
       " 22.8134372082491,\n",
       " 9.75447410548422,\n",
       " 28.3311382944668,\n",
       " 7.70482730556747,\n",
       " 19.4416126385106,\n",
       " 6.39201346448802,\n",
       " 19.2494899509298,\n",
       " 12.2742657170159,\n",
       " 7.42850916041972,\n",
       " 12.5532069474003,\n",
       " 12.1479452820485,\n",
       " 15.7770243313245,\n",
       " 18.0800232726597,\n",
       " 9.76794626830696,\n",
       " 14.5848191745929,\n",
       " 14.9830424198175,\n",
       " 7.26803038762221,\n",
       " 14.6030718687988,\n",
       " 8.16237289522026,\n",
       " 19.4885650680729,\n",
       " 4.05555474909986,\n",
       " 6.19918866625618,\n",
       " 17.5279792400508,\n",
       " 24.3863326359692,\n",
       " 9.87415023493439,\n",
       " 11.4798651086507,\n",
       " 33.240281127507,\n",
       " 11.1733157576934,\n",
       " 12.8626843320886,\n",
       " 7.32917617049108,\n",
       " 49.9575647624379,\n",
       " 6.81149348673855,\n",
       " 8.60308135226721,\n",
       " 14.2839764446908,\n",
       " 5.82672069762375,\n",
       " 14.8532787686341,\n",
       " 22.5607456444987,\n",
       " 15.6268066547679,\n",
       " 5.45123135105886,\n",
       " 7.51147889349232,\n",
       " 7.56731872482684,\n",
       " 8.64752843589828,\n",
       " 9.97441931400899,\n",
       " 51.8448778405642,\n",
       " 24.1954442446918,\n",
       " 31.9956075818135,\n",
       " 7.79363756168039,\n",
       " 8.45790726645968,\n",
       " 16.0053376143865,\n",
       " 6.17922672874999,\n",
       " 30.8150383056562,\n",
       " 30.1485228465053,\n",
       " 17.1601426193315,\n",
       " 8.45590289438975,\n",
       " 19.579535442063,\n",
       " 9.92647397834568,\n",
       " 61.3937840993101,\n",
       " 9.07726732138203,\n",
       " 7.63825912581616,\n",
       " 4.17084296805569,\n",
       " 7.81761824015434,\n",
       " 45.2482064204892,\n",
       " 11.9686657954378,\n",
       " 7.13337229703732,\n",
       " 10.0863346727712,\n",
       " 10.0770853297619,\n",
       " 30.0926308422938,\n",
       " 29.1296322673878,\n",
       " 5.46398343297549,\n",
       " 15.2975627672779,\n",
       " 6.64498832306109,\n",
       " 6.06540039114924,\n",
       " 10.010779882564,\n",
       " 6.03366670499188,\n",
       " 10.6034225414316,\n",
       " 6.23517719917678,\n",
       " 44.215787069026,\n",
       " 11.2969064094082,\n",
       " 8.68103365555092,\n",
       " 26.5035244433006,\n",
       " 14.4419587549417,\n",
       " 12.0953035141225,\n",
       " 4.43509343454491,\n",
       " 14.228199248349,\n",
       " 30.91425566792,\n",
       " 8.97369467212921,\n",
       " 8.7018496816422,\n",
       " 16.1178402166728,\n",
       " 11.4177410179727,\n",
       " 24.818090189695,\n",
       " 31.1881888561605,\n",
       " 8.51700981291351,\n",
       " 16.6771847930174,\n",
       " 29.3696688762068,\n",
       " 9.6138520147239,\n",
       " 5.54658428698323,\n",
       " 7.44369155359333,\n",
       " 24.5291874431104,\n",
       " 28.0634475934784,\n",
       " 41.891555232907,\n",
       " 11.2534978335288,\n",
       " 14.4142755640442,\n",
       " 8.0069311041337,\n",
       " 11.6492068938284,\n",
       " 1.90780727556803,\n",
       " 8.7828857603457,\n",
       " 13.5190676858953,\n",
       " 73.5931298807339,\n",
       " 16.0641763775998,\n",
       " 8.72852719181178,\n",
       " 7.75328501860282,\n",
       " 9.9589093419221,\n",
       " 14.6958149472912,\n",
       " 13.6598030968045,\n",
       " 7.88425527651191,\n",
       " 27.7310845510424,\n",
       " 6.43907665261159,\n",
       " 5.01048658478156,\n",
       " 47.7213280212925,\n",
       " 10.7374502806559,\n",
       " 6.88671946169406,\n",
       " 6.68303963803044,\n",
       " 12.3336427476843,\n",
       " 9.33051965666594,\n",
       " 10.8332595279931,\n",
       " 28.1106010856461,\n",
       " 6.93077725416965,\n",
       " 5.17190697664487,\n",
       " 8.31901223704466,\n",
       " 4.73909226771106,\n",
       " 22.4898876865479,\n",
       " 19.6402494192096,\n",
       " 7.89865634312203,\n",
       " 10.8586145840982,\n",
       " 4.70281171528411,\n",
       " 10.8593863949186,\n",
       " 12.4633502531925,\n",
       " 10.6740889264837,\n",
       " 9.65882746653678,\n",
       " 4.49645188145865,\n",
       " 29.356639666605,\n",
       " 12.62574152301,\n",
       " 4.62969044706931,\n",
       " 6.14184941366043,\n",
       " 8.50824053366747,\n",
       " 4.52287924366399,\n",
       " 26.150727194428,\n",
       " 43.9839581975831,\n",
       " 3.4531599691776,\n",
       " 8.11650831506809,\n",
       " 12.1302688164287,\n",
       " 6.47367099728361,\n",
       " 11.3824412141383,\n",
       " 51.4001057640377,\n",
       " 8.55808377109659,\n",
       " 13.8717479499182,\n",
       " 7.74071259964366,\n",
       " 31.878093929356,\n",
       " 22.3429263012751,\n",
       " 23.9920959455949,\n",
       " 11.0820192723609,\n",
       " 16.202939518797,\n",
       " 30.9591429821052,\n",
       " 7.10996057787654,\n",
       " 6.20779098311899,\n",
       " 3.68600055584411,\n",
       " 19.0454565800056,\n",
       " 24.5276395171041,\n",
       " 20.5018549743244,\n",
       " 43.8119459734307,\n",
       " 9.09756868336282,\n",
       " 32.266550536337,\n",
       " 14.1074292373134,\n",
       " 13.4484609139059,\n",
       " 7.29565139323311,\n",
       " 6.95546042504641,\n",
       " 25.5714158283442,\n",
       " 12.2165446833782,\n",
       " 12.9298902463056,\n",
       " 5.15409719002038,\n",
       " 10.718136837793,\n",
       " 11.862594351706,\n",
       " 11.0328484240929,\n",
       " 14.7509736885825,\n",
       " 16.1777041662311,\n",
       " 6.1222678395687,\n",
       " 6.56802945827028,\n",
       " 60.7281533572106,\n",
       " 4.55945469633122,\n",
       " 19.3677268567388,\n",
       " 6.41207486714262,\n",
       " 17.9469029250402,\n",
       " 21.9502628516553,\n",
       " 28.0909810219978,\n",
       " 10.9334056613029,\n",
       " 27.4555070935396,\n",
       " 25.2357746857269,\n",
       " 10.3001262078924,\n",
       " 63.7863249333564,\n",
       " 9.39505770710273,\n",
       " 26.5248444619946,\n",
       " 15.3550621890624,\n",
       " 15.9508195215251,\n",
       " 5.22015300541087,\n",
       " 18.1194789531984,\n",
       " 6.31824748573383,\n",
       " 9.03105404736536,\n",
       " 14.6698958877568,\n",
       " 5.59991628549083,\n",
       " 9.85481686355077,\n",
       " 7.78690986338109,\n",
       " 10.1805600583754,\n",
       " 8.3003275024387,\n",
       " 25.7604369272792,\n",
       " 10.694552856682,\n",
       " 5.65560787964651,\n",
       " 6.74850810160753,\n",
       " 7.60343659153665,\n",
       " 7.73772418163446,\n",
       " 12.5673631124222,\n",
       " 13.4120479155892,\n",
       " 10.2045911739733,\n",
       " 6.99135543798397,\n",
       " 32.1894127765966,\n",
       " 12.3246148896445,\n",
       " 7.36683946719639,\n",
       " 22.8468550160532,\n",
       " 6.82678593645853,\n",
       " 19.6740725812723,\n",
       " 4.83430915711773,\n",
       " 49.1420715407519,\n",
       " 18.4134017015647,\n",
       " 27.5235353289361,\n",
       " 9.88427008559185,\n",
       " 7.61039171844763,\n",
       " 7.75630576784186,\n",
       " 9.92047840511211,\n",
       " 24.9129458749144,\n",
       " 74.035740260719,\n",
       " 11.952559544129,\n",
       " 13.622628320122,\n",
       " 10.4322886497003,\n",
       " 6.71009428345961,\n",
       " 12.5035622811363,\n",
       " 10.3421889415045,\n",
       " 16.5942472902578,\n",
       " 9.13395794412,\n",
       " 11.8696406181926,\n",
       " 32.567159958051,\n",
       " 7.45921921899763,\n",
       " 28.8177588478121,\n",
       " 9.18318278143994,\n",
       " 6.21917651230987,\n",
       " 6.64818341575113,\n",
       " 5.75625244527768,\n",
       " 48.7425282234741,\n",
       " 17.9728741720396,\n",
       " 28.1332119253516,\n",
       " 5.80568869593347,\n",
       " 11.0051677097554,\n",
       " 12.4569932287363,\n",
       " 11.5213946962345,\n",
       " 12.1151896750347,\n",
       " 8.80456496695307,\n",
       " 8.64810982688341,\n",
       " 24.6130157909491,\n",
       " 11.887172148159,\n",
       " 10.0005586426265,\n",
       " 13.4921672189745,\n",
       " 9.71652540836137,\n",
       " 7.28181751742204,\n",
       " 8.63130923370594,\n",
       " 20.4308726732569,\n",
       " 43.145777054406,\n",
       " 10.4925409835819,\n",
       " 6.83908137750974,\n",
       " 9.31072068682218,\n",
       " 9.93686699520162,\n",
       " 7.55390552377635,\n",
       " 5.99472523377817,\n",
       " 18.5084088129368,\n",
       " 30.7275619775896,\n",
       " 8.54836910543828,\n",
       " 6.94776715142209,\n",
       " 4.89215199499993,\n",
       " 6.65674148729625,\n",
       " 16.6261816713705,\n",
       " 5.45559353384602,\n",
       " 10.1113164260493,\n",
       " 10.6861447685854,\n",
       " 11.3672556218698,\n",
       " 13.9581220898676,\n",
       " 12.7640462542005,\n",
       " 13.1957911224884,\n",
       " 14.016098883775,\n",
       " 9.74264400992446,\n",
       " 9.19328032004101,\n",
       " 12.8433812029347,\n",
       " 9.69710695910433,\n",
       " 12.6305916477668,\n",
       " 27.5805921332476,\n",
       " 12.3398806778676,\n",
       " 6.80016729367692,\n",
       " 8.76459399263145,\n",
       " 62.5416449232427,\n",
       " 20.4619341632576,\n",
       " 5.11795666771446,\n",
       " 9.79593556259817,\n",
       " 8.81230873101468,\n",
       " 27.0479157745544,\n",
       " 5.04562223979178,\n",
       " 9.71765108633189,\n",
       " 10.1431574045123,\n",
       " 12.9971883101282,\n",
       " 9.07258050208991,\n",
       " 25.4143043822871,\n",
       " 11.5832368753389,\n",
       " 17.8165257086368,\n",
       " 8.59916717873502,\n",
       " 29.5672323051218,\n",
       " 14.6151225037403,\n",
       " 15.9543261321122,\n",
       " 8.98389394246494,\n",
       " 13.5905902429591,\n",
       " 5.47587193137235,\n",
       " 18.6939518517539,\n",
       " 8.57767449890075,\n",
       " 9.66087021866206,\n",
       " 6.54594013068853,\n",
       " 5.77128349831681,\n",
       " 4.56554806815804,\n",
       " 24.1899129601079,\n",
       " 4.48640751348628,\n",
       " 11.5843605623987,\n",
       " 12.2963005588452,\n",
       " 12.346290378961,\n",
       " 14.9865525484339,\n",
       " 7.61070794149355,\n",
       " 6.16550357267678,\n",
       " 6.21292616864172,\n",
       " 50.6332182891113,\n",
       " 14.0447100381709,\n",
       " 62.5500887593634,\n",
       " 12.2354385524677,\n",
       " 6.96623455522144,\n",
       " 16.1398022914959,\n",
       " 16.8224120039797,\n",
       " 9.3861338687233,\n",
       " 31.5254354552941,\n",
       " 7.35485698396209,\n",
       " 9.46638831476638,\n",
       " 29.0389437705256,\n",
       " 7.81169497692808,\n",
       " 10.0207166121889,\n",
       " 21.5620745584167,\n",
       " 5.31509987807102,\n",
       " 4.49490016854845,\n",
       " 25.7456328597451,\n",
       " 19.3530934567949,\n",
       " 10.3239946836777,\n",
       " 12.9875667058155,\n",
       " 6.26320657742818,\n",
       " 5.56932621484471,\n",
       " 14.6007186867264,\n",
       " 11.1569065337131,\n",
       " 10.8857210245373,\n",
       " 10.9355705836165,\n",
       " 21.7611556261932,\n",
       " 16.0535173117746,\n",
       " 23.0055222658348,\n",
       " 7.18859358710107,\n",
       " 7.9131787126652,\n",
       " 9.26315466208973,\n",
       " 5.19531358318281,\n",
       " 28.2759784405162,\n",
       " 10.4495387424811,\n",
       " 31.3613977099605,\n",
       " 10.3538400088711,\n",
       " 13.0484370759454,\n",
       " 10.4115045973531,\n",
       " 6.80087928951712,\n",
       " 16.7931050569206,\n",
       " 8.72747818644548,\n",
       " 19.1538223623568,\n",
       " 12.8837255437859,\n",
       " 8.13794813542779,\n",
       " 6.5713100529941,\n",
       " 13.0363963194044,\n",
       " 6.56239532146198,\n",
       " 13.7753437082795,\n",
       " 65.6254138048974,\n",
       " 10.988894133461,\n",
       " 21.314534417787,\n",
       " 6.56842421641167,\n",
       " 8.30334079010359,\n",
       " 14.4428117105817,\n",
       " 15.5202661236439,\n",
       " 8.99363683749112,\n",
       " 7.69199459892688,\n",
       " 7.36486618764278,\n",
       " 10.2687567700638,\n",
       " 5.07168522154023,\n",
       " 4.67143451746001,\n",
       " 26.3616364419911,\n",
       " 7.78120921921432,\n",
       " 13.1553895711043,\n",
       " 7.3322688114418,\n",
       " 75.9150925587422,\n",
       " 14.9919884103816,\n",
       " 9.15542024362847,\n",
       " 12.149335982067,\n",
       " 10.5510094082063,\n",
       " 59.8192318181768,\n",
       " 29.7129161525345,\n",
       " 6.87253713078558,\n",
       " 10.6224910849199,\n",
       " 11.5153055650896,\n",
       " 7.26273378399489,\n",
       " 8.34500645641104,\n",
       " 8.54732479369107,\n",
       " 48.8103631693235,\n",
       " 28.9131752438658,\n",
       " 10.9673691062854,\n",
       " 4.83564831680579,\n",
       " 9.95762842306951,\n",
       " 13.8398526638311,\n",
       " 10.8798999284984,\n",
       " 9.15078599031993,\n",
       " 14.4874050030358,\n",
       " 30.1905455845273,\n",
       " 7.96256505290767,\n",
       " 11.9774504370577,\n",
       " 6.69405187681449,\n",
       " 15.2141922139298,\n",
       " 17.4642660519061,\n",
       " 8.50319478756896,\n",
       " 49.0090859849562,\n",
       " 19.152363826321,\n",
       " 3.52950018728803,\n",
       " 12.1390105360406,\n",
       " 11.2637061580683,\n",
       " 6.24108176620636,\n",
       " 7.841326786027,\n",
       " 20.5887129813552,\n",
       " 8.33216410205234,\n",
       " 13.2477634896524,\n",
       " 28.9791324695097,\n",
       " 16.2892738531165,\n",
       " 19.9706989660786,\n",
       " 6.73011063556452,\n",
       " 15.0283610779922,\n",
       " 3.93655729696887,\n",
       " 6.48279304066323,\n",
       " 9.69096203649959,\n",
       " 9.41569988109651,\n",
       " 9.62654087931988,\n",
       " 6.56171561049864,\n",
       " 11.0343175073942,\n",
       " 14.3242918884453,\n",
       " 5.54153883235952,\n",
       " 9.84863363317417,\n",
       " 31.8464468615064,\n",
       " 14.764617363682,\n",
       " 6.59735029445045,\n",
       " 50.5389955297632,\n",
       " 7.18710351430507,\n",
       " 11.6022408041186,\n",
       " 12.5644519266213,\n",
       " 8.34640569095593,\n",
       " 31.0095509328895,\n",
       " 8.74631802881736,\n",
       " 12.3721632298126,\n",
       " 10.1074677796143,\n",
       " 20.0068367253395,\n",
       " 13.7853352933053,\n",
       " 15.8179559119052,\n",
       " 22.1928561943426,\n",
       " 29.453604915718,\n",
       " 9.17703645347979,\n",
       " 5.58815235306397,\n",
       " 61.1628694017901,\n",
       " 27.0139961778109,\n",
       " 4.25565132599796,\n",
       " 11.8675738844088,\n",
       " 9.75386394525633,\n",
       " 10.2375937272972,\n",
       " 4.68290760084458,\n",
       " 13.3961668165211,\n",
       " 12.15846025008,\n",
       " 11.4376068959214,\n",
       " 64.7208458582344,\n",
       " 5.50676014384454,\n",
       " 15.7583871282366,\n",
       " 7.54202736496912,\n",
       " 6.52044236227815,\n",
       " 22.790936259333,\n",
       " 28.0972032456984,\n",
       " 11.8181720932613,\n",
       " 14.4042943881745,\n",
       " 13.7664301531802,\n",
       " 12.1352680379947,\n",
       " 5.330341707885,\n",
       " 11.8033351998294,\n",
       " 11.0138397056943,\n",
       " 22.4612492210804,\n",
       " 16.2501443313823,\n",
       " 7.35244823095917,\n",
       " 8.32212297918131,\n",
       " 10.4778188379827,\n",
       " 13.4935461074809,\n",
       " 6.73979080126755,\n",
       " 48.2205382289232,\n",
       " 11.4680505338786,\n",
       " 8.53884469104836,\n",
       " 6.78283271694338,\n",
       " 4.97819581648046,\n",
       " 4.48553835066238,\n",
       " 4.37313006606714,\n",
       " 12.6016405988423,\n",
       " 10.0931572782153,\n",
       " 6.38339637738661,\n",
       " 12.0890480508861,\n",
       " 8.73357328682047,\n",
       " 7.22126598191271,\n",
       " 6.75640563069829,\n",
       " 16.8618912497371,\n",
       " 9.16251369789767,\n",
       " 26.1018179173548,\n",
       " 6.53867520867383,\n",
       " 23.5178903355921,\n",
       " 9.99826806175211,\n",
       " 8.35765907513046,\n",
       " 10.9337170991201,\n",
       " 7.48828256151253,\n",
       " 8.07108659873913,\n",
       " 11.0566887103312,\n",
       " 20.5063850172575,\n",
       " 9.06749672030667,\n",
       " 16.9436972831576,\n",
       " 30.0413654488862,\n",
       " 14.7602991229084,\n",
       " 4.51306566026953,\n",
       " 8.61842828357291,\n",
       " 48.9637641426924,\n",
       " 22.2289713021911,\n",
       " 8.68370975688151,\n",
       " 12.690183979111,\n",
       " 73.9208411707633,\n",
       " 13.3454536519276,\n",
       " 10.258166076061,\n",
       " 26.5115457896901,\n",
       " 15.2963584110566,\n",
       " 6.16042468899894,\n",
       " 30.5881405225877,\n",
       " 9.59420364607213,\n",
       " 9.27235345874897,\n",
       " 7.36145678771901,\n",
       " 9.43249066624241,\n",
       " 6.25486599823243,\n",
       " 21.8437923762292,\n",
       " 42.5184067307884,\n",
       " 9.26986884021494,\n",
       " 11.0579569213432,\n",
       " 6.35622476854325,\n",
       " 16.0428669284938,\n",
       " 9.69331613499732,\n",
       " 7.28574311680936,\n",
       " 28.4733137013604,\n",
       " 17.0952966685813,\n",
       " 7.60561243717567,\n",
       " 4.59678770470849,\n",
       " 61.054616300538,\n",
       " 19.3574332189964,\n",
       " 5.9894202154748,\n",
       " 28.3580535288433,\n",
       " 5.20672638236015,\n",
       " 9.61223940046266,\n",
       " 72.4661715386362,\n",
       " 6.56402045725512,\n",
       " 15.1007198372333,\n",
       " 12.8341184225116,\n",
       " 15.0199143993684,\n",
       " 17.4255153762971,\n",
       " 28.8577163279282,\n",
       " 15.9354337888799,\n",
       " 15.2473604937631,\n",
       " 31.5503621681484,\n",
       " 7.14523878775127,\n",
       " 7.83976193702637,\n",
       " 5.92222208306849,\n",
       " 5.52764205758126,\n",
       " 22.0319272500236,\n",
       " 5.68716758540424,\n",
       " 18.3834163164735,\n",
       " 11.3595190936633,\n",
       " 11.602139396307,\n",
       " 8.04290199391262,\n",
       " 7.03447681261766,\n",
       " 14.7883112027043,\n",
       " 12.0896425710725,\n",
       " 32.3406427600467,\n",
       " 26.9649182515775,\n",
       " 7.08883757083863,\n",
       " 9.90028163024186,\n",
       " 14.6739391002227,\n",
       " 30.0400750456321,\n",
       " 28.5217363640798,\n",
       " 6.04140773634682,\n",
       " 43.2757085724176,\n",
       " 32.7048715392049,\n",
       " 10.8448392877972,\n",
       " 25.5472765999128,\n",
       " 12.1684212874842,\n",
       " 7.46331683499764,\n",
       " 11.1517205548784,\n",
       " 10.8677496209982,\n",
       " 24.8532988015371,\n",
       " 10.6538834693006,\n",
       " 9.70700460949732,\n",
       " 60.5119634858637,\n",
       " 18.7754866636412,\n",
       " 6.15724096264557,\n",
       " 29.0654325100549,\n",
       " 7.1151777243751,\n",
       " 8.20466248486153,\n",
       " 19.7178178817538,\n",
       " 5.72755524864836,\n",
       " 25.3557844446132,\n",
       " 25.6067648692198,\n",
       " 23.1932018410076,\n",
       " 28.3685433830891,\n",
       " 12.4950730957627,\n",
       " 12.0895438040521,\n",
       " 11.524001867628,\n",
       " 7.10346196457822,\n",
       " 9.19613241099114,\n",
       " 6.53296008551309,\n",
       " 6.47189284221425,\n",
       " 14.9826606450003,\n",
       " 10.1906464238242,\n",
       " 62.8562688166184,\n",
       " 61.7875448973172,\n",
       " 29.9181679224149,\n",
       " 5.55880840240036,\n",
       " 8.62568211043723,\n",
       " 15.0953494997288,\n",
       " 9.46142459474274,\n",
       " 32.1281426851255,\n",
       " 5.16997352035474,\n",
       " 7.33073376682626,\n",
       " 8.07503435371517,\n",
       " 9.50332281754251,\n",
       " 8.53132682994673,\n",
       " 4.61669317616107,\n",
       " 19.8404476613586,\n",
       " 9.3500379360076,\n",
       " 23.6860170193722,\n",
       " 13.0039596146493,\n",
       " 11.1687251871544,\n",
       " 13.1703619502355,\n",
       " 10.3093610910074,\n",
       " 11.4204266981822,\n",
       " 63.6936722265889,\n",
       " 15.8202222254474,\n",
       " 7.31659881193984,\n",
       " 14.9406314914168,\n",
       " 9.80750221884503,\n",
       " 12.1896839403404,\n",
       " 17.442663343635,\n",
       " 8.60284915102757,\n",
       " 8.15125529221803,\n",
       " 6.2460044414857,\n",
       " 5.95328618997477,\n",
       " 26.9201335104201,\n",
       " 7.1701259223622,\n",
       " 5.30977048267604,\n",
       " 9.66482438049231,\n",
       " 7.03181017367631,\n",
       " 11.8753300184601,\n",
       " 10.5923139774817,\n",
       " 24.1190789397779,\n",
       " 7.57078217223963,\n",
       " 6.34662210721106,\n",
       " 19.1122182348366,\n",
       " 31.8801566474759,\n",
       " 5.77875423357347,\n",
       " 8.59881277380369,\n",
       " 48.3311986006198,\n",
       " 23.0457919733158,\n",
       " 22.5736435276269,\n",
       " 9.90921445595388,\n",
       " 7.63018615382617,\n",
       " 4.6601466120396,\n",
       " 49.0592116630476,\n",
       " 8.85531382767435,\n",
       " 12.2993715725788,\n",
       " 8.2462925478984,\n",
       " 23.8844792960774,\n",
       " 12.1890097966554,\n",
       " 4.47148082877072,\n",
       " 6.75102649405884,\n",
       " 10.2320228307029,\n",
       " 9.2092924418827,\n",
       " 5.82423694566254,\n",
       " 6.13552965555151,\n",
       " 9.2186709032497,\n",
       " 11.9696708382368,\n",
       " 32.0383920594775,\n",
       " 9.26128511664163,\n",
       " 12.1580139661603,\n",
       " 11.4721755126249,\n",
       " 7.40716309327996,\n",
       " 10.1710972614343,\n",
       " 11.267284540721,\n",
       " 14.1052912962394,\n",
       " 6.88436061080302,\n",
       " 5.10242097739895,\n",
       " 15.5191650354729,\n",
       " 9.42282741455006,\n",
       " 6.63333135324642,\n",
       " 17.511474396245,\n",
       " 30.6947421409066,\n",
       " 20.0027572354368,\n",
       " 7.60282062616051,\n",
       " 48.4524681987066,\n",
       " 23.3661434080305,\n",
       " 8.98931259058212,\n",
       " 6.33625118220563,\n",
       " 6.65450194768916,\n",
       " 10.4250671202064,\n",
       " 6.91128939388187,\n",
       " 9.29449345774911,\n",
       " 32.9243841679065,\n",
       " 61.7965547899842,\n",
       " 19.3712273930041,\n",
       " 25.5682160031176,\n",
       " 11.3322397879648,\n",
       " 8.2785939598576,\n",
       " 9.51348552024197,\n",
       " 6.11992857258296,\n",
       " 8.055440328636,\n",
       " 15.7962170274159,\n",
       " 8.8411009959522,\n",
       " 18.6656837833591,\n",
       " 9.87904520276148,\n",
       " 8.69539231210535,\n",
       " 6.3029001691364,\n",
       " 45.5197328743447,\n",
       " 11.6501860297277,\n",
       " 12.4053678286706,\n",
       " 9.74268480013362,\n",
       " 13.5983817495952,\n",
       " 9.53908533459179,\n",
       " 9.24995871051714,\n",
       " 9.42301265336515,\n",
       " 10.1968185543266,\n",
       " 18.2037342287121,\n",
       " 30.9575400668479,\n",
       " 4.84550062539774,\n",
       " 17.0538939863115,\n",
       " 16.9774932600667,\n",
       " 7.49710927392894,\n",
       " 7.09866506268111,\n",
       " 10.0136498472647,\n",
       " 12.1196524263715,\n",
       " 9.60383054390877,\n",
       " 20.8416929321724,\n",
       " 5.33761208542058,\n",
       " 4.90158911543537,\n",
       " 46.6328944006803,\n",
       " 5.3239908604498,\n",
       " 9.39597062883255,\n",
       " 10.2540693155406,\n",
       " 7.48962616859744,\n",
       " 7.2946833697057,\n",
       " 10.5238473727551,\n",
       " 6.66978900025144,\n",
       " 15.6435937347363,\n",
       " 5.45080400846064,\n",
       " 9.45286726103258,\n",
       " 9.99425909835674,\n",
       " 10.5320435047574,\n",
       " 11.4947884710745,\n",
       " 4.9361087128834,\n",
       " 6.26313766992957,\n",
       " 24.5863019171695,\n",
       " 6.52874651669723,\n",
       " 12.7681139036834,\n",
       " 10.1455456662992,\n",
       " 13.717499979594,\n",
       " 4.75024837381228,\n",
       " 7.39978553324599,\n",
       " 6.84970469912672,\n",
       " 9.50785559304601,\n",
       " 15.0419893074242,\n",
       " 11.0648726743724,\n",
       " 30.3825587777057,\n",
       " 11.3722132152332,\n",
       " 6.09523565102434,\n",
       " 14.8538195026364,\n",
       " 16.4855511702907,\n",
       " 14.5971195483952,\n",
       " 5.47596533458792,\n",
       " 28.5278269689831,\n",
       " 23.2948398942264,\n",
       " 9.06106618040128,\n",
       " 49.2751694802914,\n",
       " 31.9111484363934,\n",
       " 13.8750183018602,\n",
       " 11.8032431829929,\n",
       " 25.026643902022,\n",
       " 10.1280084573804,\n",
       " 6.78871067515901,\n",
       " 29.6229693695128,\n",
       " 67.4520509954768,\n",
       " 18.5370190743148,\n",
       " 31.1213737521245,\n",
       " 11.8266842363466,\n",
       " 7.55444644174808,\n",
       " 9.62588736647183,\n",
       " 14.712015610973,\n",
       " 7.57340376255194,\n",
       " 10.7798928815432,\n",
       " 13.5903230104313,\n",
       " 19.6803618667746,\n",
       " 6.62655539677837,\n",
       " 7.06997067540219,\n",
       " 26.948047385247,\n",
       " 13.310303441362,\n",
       " 11.4659275732226,\n",
       " 9.10495136601968,\n",
       " 11.8291144382357,\n",
       " 5.38402969053717,\n",
       " 10.1689244218084,\n",
       " 6.87367150749499,\n",
       " 18.0767577689081,\n",
       " 8.1907977719533,\n",
       " 18.2137741380643,\n",
       " 9.65044911123694,\n",
       " 29.3093063335684,\n",
       " 6.29556895984604,\n",
       " 15.5501909806319,\n",
       " 4.91840255644097,\n",
       " 7.28235824354398,\n",
       " 22.2205348057118,\n",
       " 9.98510690121945,\n",
       " 11.6467996837529,\n",
       " 9.44525547746438,\n",
       " 8.52665331535818,\n",
       " 11.6898492393306,\n",
       " 18.762703719252,\n",
       " 12.8596716975175,\n",
       " 22.8546470699114,\n",
       " 29.9656746064423,\n",
       " 31.6470765155942,\n",
       " 10.9951120554712,\n",
       " 12.6200631073416,\n",
       " 9.5396863241055,\n",
       " 9.26940921981921,\n",
       " 11.0987715732157,\n",
       " 10.6691722913041,\n",
       " 13.4758441471011,\n",
       " 10.0184598781575,\n",
       " 64.8269002679443,\n",
       " 11.3146582043733,\n",
       " 22.5862102985841,\n",
       " 8.50736795962927,\n",
       " 29.9394885308712,\n",
       " 6.97311232927626,\n",
       " 63.1155212279866,\n",
       " 6.84086364973691,\n",
       " 4.39909891121116,\n",
       " 48.3885348594,\n",
       " 4.65858951899094,\n",
       " 24.6855613995321,\n",
       " 9.51408504181979,\n",
       " 13.0040541266836,\n",
       " 72.6755456109339,\n",
       " 6.32315401159815,\n",
       " 9.58598095844062,\n",
       " 7.84420337418262,\n",
       " 7.82830306797696,\n",
       " 10.9833422593746,\n",
       " 6.30537169004379,\n",
       " 7.06889597350483,\n",
       " 7.94878780852408,\n",
       " 31.6105856373356,\n",
       " 8.4350341901978,\n",
       " 13.8028054842952,\n",
       " 12.0775933864046,\n",
       " 11.0144611620395,\n",
       " 7.11100949165513,\n",
       " 10.2448492154848,\n",
       " 30.0785344705369,\n",
       " 64.725157545914,\n",
       " 10.6224155720657,\n",
       " 12.7710517253148,\n",
       " 8.57186618819148,\n",
       " 21.7161424330325,\n",
       " 10.6835887111767,\n",
       " 7.28406199503384,\n",
       " 14.3290482020294,\n",
       " 30.3842079436796,\n",
       " 10.2504325817689,\n",
       " 23.1372997777535,\n",
       " 3.96352032269863,\n",
       " 49.1554229631421,\n",
       " 18.0928748700369,\n",
       " 4.91723602328317,\n",
       " 9.01178626315972,\n",
       " 11.3170619678381,\n",
       " 13.777106463574,\n",
       " 7.14061218919409,\n",
       " 10.1501050680428,\n",
       " 8.7988481735466,\n",
       " 6.17923529345749,\n",
       " 61.3210498718983,\n",
       " ...]"
      ]
     },
     "execution_count": 126,
     "metadata": {},
     "output_type": "execute_result"
    }
   ],
   "source": []
  },
  {
   "cell_type": "code",
   "execution_count": 127,
   "metadata": {},
   "outputs": [
    {
     "data": {
      "text/plain": [
       "15.92650941506272"
      ]
     },
     "execution_count": 127,
     "metadata": {},
     "output_type": "execute_result"
    }
   ],
   "source": [
    "np.average(y1)"
   ]
  },
  {
   "cell_type": "code",
   "execution_count": 128,
   "metadata": {},
   "outputs": [
    {
     "data": {
      "text/plain": [
       "15.880670258975528"
      ]
     },
     "execution_count": 128,
     "metadata": {},
     "output_type": "execute_result"
    }
   ],
   "source": [
    "np.average(y1cf)"
   ]
  },
  {
   "cell_type": "code",
   "execution_count": 129,
   "metadata": {},
   "outputs": [
    {
     "data": {
      "text/plain": [
       "183.87830162207908"
      ]
     },
     "execution_count": 129,
     "metadata": {},
     "output_type": "execute_result"
    }
   ],
   "source": [
    "np.var(y1)"
   ]
  },
  {
   "cell_type": "code",
   "execution_count": 130,
   "metadata": {},
   "outputs": [
    {
     "data": {
      "text/plain": [
       "182.91455053714193"
      ]
     },
     "execution_count": 130,
     "metadata": {},
     "output_type": "execute_result"
    }
   ],
   "source": [
    "np.var(y1cf)"
   ]
  },
  {
   "cell_type": "code",
   "execution_count": 134,
   "metadata": {},
   "outputs": [
    {
     "data": {
      "image/png": "[encoded data removed]",
      "text/plain": [
       "<Figure size 432x288 with 1 Axes>"
      ]
     },
     "metadata": {
      "needs_background": "light"
     },
     "output_type": "display_data"
    }
   ],
   "source": [
    "plot.hist(train['yf'],150)\n",
    "plot.show()"
   ]
  },
  {
   "cell_type": "code",
   "execution_count": 135,
   "metadata": {},
   "outputs": [
    {
     "data": {
      "image/png": "[encoded data removed]",
      "text/plain": [
       "<Figure size 432x288 with 1 Axes>"
      ]
     },
     "metadata": {
      "needs_background": "light"
     },
     "output_type": "display_data"
    }
   ],
   "source": [
    "plot.hist(train['ycf'],150)\n",
    "plot.show()"
   ]
  },
  {
   "cell_type": "code",
   "execution_count": null,
   "metadata": {},
   "outputs": [],
   "source": []
  }
 ],
 "metadata": {
  "kernelspec": {
   "display_name": "Python 3",
   "language": "python",
   "name": "python3"
  },
  "language_info": {
   "codemirror_mode": {
    "name": "ipython",
    "version": 3
   },
   "file_extension": ".py",
   "mimetype": "text/x-python",
   "name": "python",
   "nbconvert_exporter": "python",
   "pygments_lexer": "ipython3",
   "version": "3.7.0"
  }
 },
 "nbformat": 4,
 "nbformat_minor": 2
}
